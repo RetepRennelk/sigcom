{
 "cells": [
  {
   "cell_type": "code",
   "execution_count": 12,
   "metadata": {},
   "outputs": [
    {
     "name": "stdout",
     "output_type": "stream",
     "text": [
      "The autoreload extension is already loaded. To reload it, use:\n",
      "  %reload_ext autoreload\n"
     ]
    }
   ],
   "source": [
    "%load_ext autoreload\n",
    "%autoreload 2\n",
    "from sigcom.it.util import getMutualInfo, mutual_information_magic\n",
    "from sigcom.tx.util import generate_bits\n",
    "import numpy as np\n",
    "import matplotlib.pyplot as plt"
   ]
  },
  {
   "cell_type": "code",
   "execution_count": 2,
   "metadata": {},
   "outputs": [
    {
     "data": {
      "text/plain": [
       "array([ 0.08521319])"
      ]
     },
     "execution_count": 2,
     "metadata": {},
     "output_type": "execute_result"
    }
   ],
   "source": [
    "getMutualInfo(.5)"
   ]
  },
  {
   "cell_type": "markdown",
   "metadata": {},
   "source": [
    "System model\n",
    "$$r=t+n$$\n",
    "L-value\n",
    "$$L(b)=\\log\\frac{p(0|r)}{p(1|r)}=2\\cdot SNR\\cdot r$$"
   ]
  },
  {
   "cell_type": "code",
   "execution_count": 44,
   "metadata": {},
   "outputs": [
    {
     "data": {
      "image/png": "[encoded data removed]",
      "text/plain": [
       "<matplotlib.figure.Figure at 0x1695837de48>"
      ]
     },
     "metadata": {},
     "output_type": "display_data"
    }
   ],
   "source": [
    "N = 100000\n",
    "noise = np.random.randn(N)\n",
    "bits = generate_bits(N)\n",
    "tx = 1-2*bits\n",
    "Ps_dB = np.linspace(-20,20,100)\n",
    "MIs = []\n",
    "for P_dB in Ps_dB:\n",
    "    P = 10**(P_dB/10)\n",
    "    rx = tx + noise * np.sqrt(P)\n",
    "    Llrs = 2/P*rx\n",
    "    MI = mutual_information_magic(Llrs, bits, 1)\n",
    "    MIs.append(MI)\n",
    "plt.plot(Ps_dB, MIs)\n",
    "P_ch = 4/10**(Ps_dB/10)\n",
    "plt.plot(Ps_dB, getMutualInfo(P_ch))\n",
    "plt.grid()\n",
    "plt.show()"
   ]
  },
  {
   "cell_type": "code",
   "execution_count": 45,
   "metadata": {},
   "outputs": [
    {
     "name": "stdout",
     "output_type": "stream",
     "text": [
      "The autoreload extension is already loaded. To reload it, use:\n",
      "  %reload_ext autoreload\n"
     ]
    }
   ],
   "source": [
    "%load_ext autoreload\n",
    "%autoreload 2"
   ]
  },
  {
   "cell_type": "code",
   "execution_count": 22,
   "metadata": {},
   "outputs": [
    {
     "name": "stdout",
     "output_type": "stream",
     "text": [
      "The autoreload extension is already loaded. To reload it, use:\n",
      "  %reload_ext autoreload\n"
     ]
    }
   ],
   "source": [
    "%load_ext autoreload\n",
    "%autoreload 2\n",
    "\n",
    "import numpy as np\n",
    "from sigcom.coding.atsc import pck_long\n",
    "from sigcom.coding.atsc.bititlv_long import bititlv_long\n",
    "from sigcom.coding.util import get_layerwise_pck, layerwise_pcks_to_PCM\n",
    "\n",
    "M = 4\n",
    "ldM = int(np.log2(M))\n",
    "code_rate_id = [8,15]\n",
    "\n",
    "code = pck_long.get_pck(code_rate_id)\n",
    "layerwise_pck, _ = get_layerwise_pck(code, True)\n",
    "H = layerwise_pcks_to_PCM(layerwise_pck, code)\n",
    "bil = bititlv_long(M,code_rate_id)\n",
    "H_sum = H.sum(axis=0)\n",
    "H_sum = np.squeeze(np.array(H_sum, dtype=np.int32))\n"
   ]
  },
  {
   "cell_type": "code",
   "execution_count": 16,
   "metadata": {},
   "outputs": [
    {
     "name": "stdout",
     "output_type": "stream",
     "text": [
      "[ 1  2  3  4 19]\n",
      "[  1.54320988e-05   4.66651235e-01   3.33333333e-01   8.88888889e-02\n",
      "   1.11111111e-01]\n"
     ]
    }
   ],
   "source": [
    "a, b = np.unique(H_sum[bil], return_counts=True)\n",
    "print(a)\n",
    "print(b/64800)"
   ]
  },
  {
   "cell_type": "code",
   "execution_count": 169,
   "metadata": {},
   "outputs": [],
   "source": [
    "m = H_sum[bil].reshape(-1,ldM)\n",
    "H_sum_encoded = np.dot(m, [1,np.max(m)])\n",
    "H_sum_encoded_unique, index, count = np.unique(H_sum_encoded, return_counts=True, return_index=True)\n",
    "dv_at_demapper_input = [m[i,:] for i in index]"
   ]
  },
  {
   "cell_type": "code",
   "execution_count": 91,
   "metadata": {},
   "outputs": [
    {
     "data": {
      "text/plain": [
       "[[19, 19], [4, 4], [3, 3], [2, 2], [2, 1]]"
      ]
     },
     "execution_count": 91,
     "metadata": {},
     "output_type": "execute_result"
    }
   ],
   "source": [
    "v = H_sum[bil]\n",
    "w = []\n",
    "for i in range(int(len(v)/2)):\n",
    "    new_v = v[[2*i,2*i+1]]\n",
    "    if not(new_v.tolist() in w):\n",
    "        w.append(new_v.tolist())\n",
    "w        "
   ]
  },
  {
   "cell_type": "code",
   "execution_count": 125,
   "metadata": {},
   "outputs": [
    {
     "data": {
      "text/plain": [
       "[array([ 0.59020382,  0.58046365]),\n",
       " array([ 0.59020382,  0.58046365]),\n",
       " array([ 0.59020382,  0.58046365]),\n",
       " array([ 0.59020382,  0.58046365]),\n",
       " array([ 0.59020382,  0.58046365])]"
      ]
     },
     "execution_count": 125,
     "metadata": {},
     "output_type": "execute_result"
    }
   ],
   "source": [
    "import numpy as np\n",
    "from sigcom.tx.util import *\n",
    "from sigcom.rx.util import *\n",
    "from sigcom.it.util import *\n",
    "\n",
    "SNR_dB = 1.15\n",
    "N_cells = 10000\n",
    "ldM = 2\n",
    "\n",
    "N_bits = ldM * N_cells\n",
    "M = 2**ldM\n",
    "\n",
    "bits = generate_bits(N_bits)\n",
    "qam = qam_alphabet(M)\n",
    "tx = map_bits_to_symbol_alphabet(bits, qam)\n",
    "noise = make_noise(N_cells)\n",
    "SNR = 10**(SNR_dB/10)\n",
    "rx = tx + noise / np.sqrt(SNR)\n",
    "\n",
    "Ia = .5\n",
    "Pa = getNoisePower(Ia)\n",
    "MIs = []\n",
    "for dvs in dv_at_demapper_input:\n",
    "    Las = np.array([])\n",
    "    for i, dv in enumerate(dvs):\n",
    "        new_Ia = getMutualInfo(Pa*dv)\n",
    "        new_Las = bits_to_apriori(bits[i::ldM], new_Ia)\n",
    "        Las = np.vstack((Las,new_Las)) if Las.size else new_Las\n",
    "    La = Las.T.reshape(-1)\n",
    "    Llrs = demap(rx, qam, SNR, La)\n",
    "    Llrs_ext = Llrs - La\n",
    "    MIs.append(mutual_information_magic(Llrs_ext, bits, ldM=2))\n",
    "MIs"
   ]
  },
  {
   "cell_type": "code",
   "execution_count": 190,
   "metadata": {},
   "outputs": [],
   "source": [
    "dv_at_demapper_output = np.zeros((int(code['N']/ldM), ldM), dtype=np.int32)\n",
    "addr = np.arange(ldM)\n",
    "for x in H_sum_encoded_unique:\n",
    "    dv_at_demapper_output[H_sum_encoded==x,:] = addr\n",
    "    addr += ldM\n",
    "dv_at_demapper_output = dv_at_demapper_output.reshape(-1)\n",
    "\n",
    "dv_at_demapper_output_debiled = np.zeros(code['N'], dtype=np.int32)\n",
    "dv_at_demapper_output_debiled[bil] = dv_at_demapper_output"
   ]
  },
  {
   "cell_type": "code",
   "execution_count": 192,
   "metadata": {},
   "outputs": [
    {
     "data": {
      "text/plain": [
       "array([[19, 19],\n",
       "       [19, 19],\n",
       "       [19, 19],\n",
       "       ..., \n",
       "       [ 2,  2],\n",
       "       [ 2,  2],\n",
       "       [ 1,  1]])"
      ]
     },
     "execution_count": 192,
     "metadata": {},
     "output_type": "execute_result"
    }
   ],
   "source": [
    "m = np.vstack((dv_at_demapper_output_biled, H_sum)).T\n",
    "m_encoded = np.dot(m, [1,np.max(m)])\n",
    "m_encoded_unique, m_index, m_count = np.unique(H_sum_encoded, return_counts=True, return_index=True)\n",
    "m_count\n",
    "m"
   ]
  },
  {
   "cell_type": "code",
   "execution_count": 153,
   "metadata": {},
   "outputs": [
    {
     "data": {
      "text/plain": [
       "array([    1, 15119, 10800,  2880,  3600], dtype=int64)"
      ]
     },
     "execution_count": 153,
     "metadata": {},
     "output_type": "execute_result"
    }
   ],
   "source": [
    "count"
   ]
  },
  {
   "cell_type": "code",
   "execution_count": 173,
   "metadata": {},
   "outputs": [
    {
     "data": {
      "text/plain": [
       "1"
      ]
     },
     "execution_count": 173,
     "metadata": {},
     "output_type": "execute_result"
    }
   ],
   "source": [
    "np.array([False,True]).sum()"
   ]
  },
  {
   "cell_type": "code",
   "execution_count": null,
   "metadata": {},
   "outputs": [],
   "source": []
  }
 ],
 "metadata": {
  "kernelspec": {
   "display_name": "Python 3",
   "language": "python",
   "name": "python3"
  },
  "language_info": {
   "codemirror_mode": {
    "name": "ipython",
    "version": 3
   },
   "file_extension": ".py",
   "mimetype": "text/x-python",
   "name": "python",
   "nbconvert_exporter": "python",
   "pygments_lexer": "ipython3",
   "version": "3.5.3"
  }
 },
 "nbformat": 4,
 "nbformat_minor": 2
}
