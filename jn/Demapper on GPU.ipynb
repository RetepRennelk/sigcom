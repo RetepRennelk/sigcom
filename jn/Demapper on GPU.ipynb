{
 "cells": [
  {
   "cell_type": "markdown",
   "metadata": {},
   "source": [
    "# First Steps for a Demapper on GPU"
   ]
  },
  {
   "cell_type": "code",
   "execution_count": 1,
   "metadata": {},
   "outputs": [],
   "source": [
    "import numba\n",
    "from numba import cuda\n",
    "from sigcom.tx.util import qam_alphabet\n",
    "import numpy as np"
   ]
  },
  {
   "cell_type": "code",
   "execution_count": 2,
   "metadata": {},
   "outputs": [],
   "source": [
    "M = 4\n",
    "qam = qam_alphabet(M)"
   ]
  },
  {
   "cell_type": "code",
   "execution_count": 3,
   "metadata": {},
   "outputs": [],
   "source": [
    "sqam = ','.join([str(q) for q in qam])\n",
    "sqam = '[' + sqam + ']'"
   ]
  },
  {
   "cell_type": "code",
   "execution_count": 4,
   "metadata": {},
   "outputs": [],
   "source": [
    "s='''\n",
    "cqam = np.array({sqam})\n",
    "\n",
    "@cuda.jit\n",
    "def func(out):\n",
    "    qam = cuda.const.array_like(cqam)\n",
    "    for i in range(4):\n",
    "        out[i] = qam[i]\n",
    "'''.format(sqam=sqam)\n",
    "exec(s, globals())"
   ]
  },
  {
   "cell_type": "code",
   "execution_count": 5,
   "metadata": {},
   "outputs": [
    {
     "data": {
      "text/plain": [
       "array([ 0.70710678+0.70710678j,  0.70710678-0.70710678j,\n",
       "       -0.70710678+0.70710678j, -0.70710678-0.70710678j])"
      ]
     },
     "execution_count": 5,
     "metadata": {},
     "output_type": "execute_result"
    }
   ],
   "source": [
    "out = cuda.device_array(4, np.complex128)\n",
    "func[1,1](out)\n",
    "out.copy_to_host()"
   ]
  },
  {
   "cell_type": "code",
   "execution_count": 6,
   "metadata": {},
   "outputs": [
    {
     "data": {
      "text/plain": [
       "0.0"
      ]
     },
     "execution_count": 6,
     "metadata": {},
     "output_type": "execute_result"
    }
   ],
   "source": [
    "out = np.zeros(4, np.complex128)\n",
    "func[1,1](out)\n",
    "np.sum(np.abs(out-qam)**2)"
   ]
  },
  {
   "cell_type": "markdown",
   "metadata": {},
   "source": [
    "# On to more serious stuff"
   ]
  },
  {
   "cell_type": "code",
   "execution_count": 16,
   "metadata": {},
   "outputs": [],
   "source": [
    "import math\n",
    "import cmath\n",
    "import numba\n",
    "import numpy as np\n",
    "from numba import cuda\n",
    "from sigcom.tx.util import make_cells\n",
    "from sigcom.ch.util import make_noise\n",
    "from sigcom.tx.util import qam_alphabet\n",
    "\n",
    "N_cells = 3240\n",
    "M = 16\n",
    "\n",
    "qam = qam_alphabet(M)\n",
    "tx, bits = make_cells(qam, N_cells)\n",
    "noise = make_noise(N_cells)\n",
    "SNRs_dB = np.linspace(-10,10,100)\n",
    "tx = np.asarray(tx, np.complex64)\n",
    "noise = np.asarray(noise, np.complex64)"
   ]
  },
  {
   "cell_type": "code",
   "execution_count": 17,
   "metadata": {},
   "outputs": [],
   "source": [
    "sqam = ','.join([str(q) for q in qam])\n",
    "sqam = '[' + sqam + ']'"
   ]
  },
  {
   "cell_type": "code",
   "execution_count": 18,
   "metadata": {},
   "outputs": [],
   "source": [
    "@cuda.jit(device=True)\n",
    "def max_star(a,b):\n",
    "    return max((a,b))+math.log(1.+math.exp(-abs(a-b)))\n",
    "\n",
    "s='''\n",
    "cqam = np.array({sqam})\n",
    "\n",
    "@cuda.jit\n",
    "def func(MIs, tx, noise, SNRs_dB, bits):\n",
    "    tid = cuda.grid(1)\n",
    "    qam = cuda.const.array_like(cqam)\n",
    "    D = cuda.local.array({M}, numba.float32)\n",
    "    SNR = 10**(SNRs_dB[tid]/10)\n",
    "    N_cells = len(tx)\n",
    "    MI = 0.\n",
    "    for k in range(N_cells):\n",
    "        rx = tx[k] + noise[k]/math.sqrt(SNR)\n",
    "        for m in range({M}):\n",
    "            D[m] = -SNR*abs(rx-qam[m])**2\n",
    "        for m in range({ldM}):\n",
    "            num = -np.inf\n",
    "            den = -np.inf\n",
    "            for i in range({M}):\n",
    "                if (i >> ({ldM}-1-m)) & 1:\n",
    "                    den = max_star(den, D[i])\n",
    "                else:\n",
    "                    num = max_star(num, D[i])\n",
    "            L = num-den\n",
    "            t = k*{ldM}+m\n",
    "            x = -(1.-2.*np.float32(bits[t]))*L\n",
    "            MI -= math.log(1.+math.exp(x))\n",
    "    MIs[tid] = {ldM}+MI/math.log(2.0)/np.float32(N_cells)\n",
    "'''.format(sqam=sqam, M=len(qam), ldM=int(np.log2(M)))\n",
    "exec(s, globals())"
   ]
  },
  {
   "cell_type": "code",
   "execution_count": 19,
   "metadata": {},
   "outputs": [
    {
     "data": {
      "text/plain": [
       "array([0.10373498, 0.10886358, 0.1142291 , 0.11984152, 0.12571116,\n",
       "       0.13184866, 0.13826503, 0.14497162, 0.15198015, 0.15930262,\n",
       "       0.16695149, 0.1749395 , 0.18327972, 0.1919856 , 0.20107095,\n",
       "       0.21054983, 0.22043669, 0.23074624, 0.2414935 , 0.25269374,\n",
       "       0.26436257, 0.27651575, 0.2891693 , 0.30233943, 0.31604245,\n",
       "       0.33029488, 0.3451133 , 0.36051434, 0.3765146 , 0.39313075,\n",
       "       0.41037932, 0.42827663, 0.44683897, 0.46608227, 0.48602217,\n",
       "       0.506674  , 0.5280525 , 0.5501721 , 0.5730465 , 0.5966888 ,\n",
       "       0.6211114 , 0.64632595, 0.67234313, 0.69917285, 0.72682387,\n",
       "       0.7553041 , 0.78462017, 0.81477773, 0.8457811 , 0.87763333,\n",
       "       0.91033643, 0.9438907 , 0.9782952 , 1.0135474 , 1.0496433 ,\n",
       "       1.0865769 , 1.1243407 , 1.1629248 , 1.2023174 , 1.2425044 ,\n",
       "       1.2834688 , 1.3251916 , 1.3676507 , 1.4108212 , 1.4546759 ,\n",
       "       1.4991848 , 1.5443165 , 1.5900375 , 1.6363134 , 1.6831101 ,\n",
       "       1.7303936 , 1.7781316 , 1.826293  , 1.8748493 , 1.9237745 ,\n",
       "       1.9730439 , 2.0226345 , 2.0725236 , 2.1226873 , 2.1731002 ,\n",
       "       2.2237341 , 2.2745574 , 2.3255346 , 2.3766255 , 2.4277856 ,\n",
       "       2.4789662 , 2.530117  , 2.5811887 , 2.6321359 , 2.6829228 ,\n",
       "       2.7335224 , 2.783916  , 2.8340843 , 2.8839998 , 2.9336207 ,\n",
       "       2.9828913 , 3.0317483 , 3.0801237 , 3.127947  , 3.1751437 ],\n",
       "      dtype=float32)"
      ]
     },
     "execution_count": 19,
     "metadata": {},
     "output_type": "execute_result"
    }
   ],
   "source": [
    "MIs = np.zeros(len(SNRs_dB), dtype=np.float32)\n",
    "func[len(SNRs_dB),1](MIs, tx, noise, SNRs_dB, bits)\n",
    "MIs"
   ]
  },
  {
   "cell_type": "code",
   "execution_count": 24,
   "metadata": {},
   "outputs": [
    {
     "name": "stdout",
     "output_type": "stream",
     "text": [
      "290 ms ± 718 µs per loop (mean ± std. dev. of 7 runs, 1 loop each)\n"
     ]
    }
   ],
   "source": [
    "%%timeit\n",
    "func[1, len(SNRs_dB)](MIs, tx, noise, SNRs_dB, bits)"
   ]
  },
  {
   "cell_type": "code",
   "execution_count": 21,
   "metadata": {},
   "outputs": [],
   "source": [
    "from sigcom.rx.util import demap\n",
    "from sigcom.it.util import mutual_information_magic\n",
    "h = np.ones(N_cells)"
   ]
  },
  {
   "cell_type": "code",
   "execution_count": 22,
   "metadata": {},
   "outputs": [],
   "source": [
    "ldM = int(np.log2(M))\n",
    "MIs_ref = []\n",
    "for SNR_dB in SNRs_dB:\n",
    "    SNR = 10**(SNR_dB/10)\n",
    "    rx = tx + noise/np.sqrt(SNR)\n",
    "    L = demap(rx, qam, SNR, h)\n",
    "    MIs_ref.append(mutual_information_magic(L, bits, 1)*ldM)"
   ]
  },
  {
   "cell_type": "code",
   "execution_count": 23,
   "metadata": {},
   "outputs": [
    {
     "data": {
      "text/plain": [
       "array([ 9.51215373e-09,  2.93175617e-09,  3.73125353e-09,  8.87571350e-09,\n",
       "       -5.43964074e-09,  1.07390825e-08,  5.63157831e-09, -9.61374980e-09,\n",
       "       -1.18726806e-10,  1.64571614e-08,  1.59625011e-08,  9.26411037e-09,\n",
       "        6.27255137e-09, -1.05767084e-09,  4.01569933e-09, -4.27432356e-09,\n",
       "       -1.65667480e-09,  1.13976149e-08,  2.27673391e-08,  2.86179729e-08,\n",
       "        3.65752317e-08,  1.49281876e-08, -4.38769976e-08, -3.30288072e-08,\n",
       "       -1.32656348e-08, -2.67508384e-08,  2.22647274e-08,  3.37641453e-08,\n",
       "        3.68247566e-09, -8.58906724e-10,  1.27987700e-08, -5.05149020e-08,\n",
       "       -2.44812726e-08,  1.87151126e-08, -1.50432702e-08, -9.27386745e-09,\n",
       "        3.06337768e-08, -5.48898971e-09, -4.72665054e-08, -7.51063745e-09,\n",
       "       -2.05869268e-08,  6.53187415e-09,  3.17184501e-10, -7.53238809e-08,\n",
       "       -5.73102859e-08, -1.76345325e-08,  9.76443504e-09,  1.02105964e-07,\n",
       "        4.94601275e-08, -9.40791756e-08,  7.50234612e-08, -8.08070602e-08,\n",
       "        5.75490771e-08, -5.52495787e-08, -6.75349954e-09,  3.79634217e-08,\n",
       "       -8.76485871e-08, -6.07513280e-08, -9.95490783e-08, -3.74048348e-08,\n",
       "       -6.54968400e-08, -1.42624286e-07,  3.09500319e-08, -1.60282970e-07,\n",
       "        3.21238964e-08, -7.07484631e-08, -1.30048883e-08,  8.80467290e-08,\n",
       "       -1.00210532e-07, -1.23183890e-08, -7.94508264e-08, -4.51398749e-08,\n",
       "       -4.37350680e-08, -1.02384841e-07,  1.00746932e-07,  9.74664593e-08,\n",
       "        1.01610942e-07,  1.53761122e-07,  8.81052209e-09, -7.37702637e-08,\n",
       "        9.56993036e-08, -1.04847839e-07, -7.59812133e-08,  7.18529662e-08,\n",
       "        9.35768774e-08, -8.80044482e-09, -3.40259074e-08,  3.68350959e-08,\n",
       "       -7.90376493e-08,  2.82987243e-08,  9.42452072e-08,  2.80696260e-07,\n",
       "        4.46974804e-08, -5.12668454e-08, -1.05387050e-08, -4.93479346e-08,\n",
       "       -2.20203251e-08, -1.78045101e-07,  4.76714432e-08,  7.63439116e-08])"
      ]
     },
     "execution_count": 23,
     "metadata": {},
     "output_type": "execute_result"
    }
   ],
   "source": [
    "MIs-MIs_ref"
   ]
  },
  {
   "cell_type": "code",
   "execution_count": null,
   "metadata": {},
   "outputs": [],
   "source": []
  }
 ],
 "metadata": {
  "kernelspec": {
   "display_name": "Python 3",
   "language": "python",
   "name": "python3"
  },
  "language_info": {
   "codemirror_mode": {
    "name": "ipython",
    "version": 3
   },
   "file_extension": ".py",
   "mimetype": "text/x-python",
   "name": "python",
   "nbconvert_exporter": "python",
   "pygments_lexer": "ipython3",
   "version": "3.6.4"
  }
 },
 "nbformat": 4,
 "nbformat_minor": 2
}
